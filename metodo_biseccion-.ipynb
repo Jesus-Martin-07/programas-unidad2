{
 "cells": [
  {
   "cell_type": "code",
   "execution_count": 1,
   "id": "33fdc54e",
   "metadata": {},
   "outputs": [
    {
     "name": "stdout",
     "output_type": "stream",
     "text": [
      "Este programa encuentra una raíz, por el metodo de biseccion\n",
      "Introduce xi1\n",
      "Introduce xs2\n",
      "Introduce la cota de error0.0001\n",
      "Introduce la cantidad de iteraciones5\n",
      "la iteracion: 1 nos da una raiz de: 1.5 con una cota de error de: 0.3333333333333333\n",
      "la iteracion: 2 nos da una raiz de: 1.25 con una cota de error de: 0.2\n",
      "la iteracion: 3 nos da una raiz de: 1.375 con una cota de error de: 0.09090909090909091\n",
      "la iteracion: 4 nos da una raiz de: 1.3125 con una cota de error de: 0.047619047619047616\n",
      "la iteracion: 5 nos da una raiz de: 1.34375 con una cota de error de: 0.023255813953488372\n",
      "la iteracion: 6 nos da una raiz de: 1.359375 con una cota de error de: 0.011494252873563218\n",
      "\n",
      "la solucion de la funcion dada por el metodo biseccion es: 1.359375\n",
      "se hicieron 6 iteraciones\n"
     ]
    }
   ],
   "source": [
    "def f(xi):\n",
    "    x=xi**3+4*xi**2-10\n",
    "    return(x)\n",
    "def f2(xs):\n",
    "    y=xs**3+4*xs**2-10\n",
    "    return(y)\n",
    "def xr(xi,xs):\n",
    "    z=(xi+xs)/2\n",
    "    return(z)\n",
    "def fxr(a,b):\n",
    "    w=xr(a,b)**3+4*xr(a,b)**2-10\n",
    "    return(w)\n",
    "#Programa principal\n",
    "print (\"Este programa encuentra una raíz, por el metodo de biseccion\")\n",
    "xi=float((input('Introduce xi')))\n",
    "xs=float((input('Introduce xs')))\n",
    "error=float((input('Introduce la cota de error')))\n",
    "iteraciones=float((input('Introduce la cantidad de iteraciones')))\n",
    "lim=0\n",
    "cota=0\n",
    "raiz=0\n",
    "if(f(xi)*f2(xs)<0):\n",
    "    while abs((xr(xi,xs)-xi)/xr(xi,xs))> error and lim<iteraciones:\n",
    "        raiz=xr(xi,xs)\n",
    "        cota=abs((xr(xi,xs)-xi)/xr(xi,xs))\n",
    "        lim+=1\n",
    "        print('la iteracion: '+str(lim)+' nos da una raiz de: '+str(raiz)+' con una cota de error de: '+str(cota))\n",
    "        if(fxr(xi,xs)*f(xi)==0):\n",
    "            raiz=xr(xi,xs)\n",
    "            lim>iteraciones\n",
    "        elif(fxr(xi,xs)*f(xi)<0):\n",
    "            xs=xr(xi,xs)\n",
    "            xi=xi\n",
    "        else:\n",
    "            xi=xr(xi,xs)\n",
    "            xs=xs\n",
    "       \n",
    "        \n",
    "else:\n",
    "    print('los dos intervalos dados son mayores a 0 introduzca otros')\n",
    "raiz=xr(xi,xs)\n",
    "cota=abs((xr(xi,xs)-xi)/xr(xi,xs))\n",
    "print('la iteracion: '+str(lim+1)+' nos da una raiz de: '+str(raiz)+' con una cota de error de: '+str(cota))\n",
    "print()\n",
    "print('la solucion de la funcion dada por el metodo biseccion es: '+str(raiz))\n",
    "print('se hicieron '+str(lim+1)+\" iteraciones\")"
   ]
  },
  {
   "cell_type": "code",
   "execution_count": null,
   "id": "6d128c77",
   "metadata": {},
   "outputs": [],
   "source": []
  }
 ],
 "metadata": {
  "kernelspec": {
   "display_name": "Python 3",
   "language": "python",
   "name": "python3"
  },
  "language_info": {
   "codemirror_mode": {
    "name": "ipython",
    "version": 3
   },
   "file_extension": ".py",
   "mimetype": "text/x-python",
   "name": "python",
   "nbconvert_exporter": "python",
   "pygments_lexer": "ipython3",
   "version": "3.9.4"
  }
 },
 "nbformat": 4,
 "nbformat_minor": 5
}
