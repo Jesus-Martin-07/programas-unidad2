{
 "cells": [
  {
   "cell_type": "code",
   "execution_count": 1,
   "id": "249224ba",
   "metadata": {},
   "outputs": [
    {
     "name": "stdout",
     "output_type": "stream",
     "text": [
      "Este programa encuentra una raíz, por el método de newton\n",
      "Introduce la cota de error0.001\n",
      "Introduce la cantidad de iteraciones5\n",
      "la iteracion: 1 nos da una raiz de: 0.5 con una cota de error de: 1.0\n",
      "la iteracion: 2 nos da una raiz de: 0.5663110031972182 con una cota de error de: 0.11709290976662397\n",
      "la iteracion: 3 nos da una raiz de: 0.5671431650348622 con una cota de error de: 0.0014672870783743904\n",
      "la iteracion: 4 nos da una raiz de: 0.5671432904097811 con una cota de error de: 2.2106391984397624e-07\n",
      "\n",
      "la solucion de la funcion dada por el metodo de newton es: 0.5671432904097811\n",
      "se hicieron 4 iteraciones\n"
     ]
    }
   ],
   "source": [
    "import math\n",
    "def f(x):\n",
    "    #FUNCION ORIGINAL\n",
    "    y=math.exp( -x )-x\n",
    "    return (y)\n",
    "def derf(r):\n",
    "    #derivada de la funcion original\n",
    "    h=-math.exp( -r )-1\n",
    "    return (h)\n",
    "def xmas1(o):\n",
    "    g=(o-(f(o)/derf(o)))\n",
    "    return (g)\n",
    "#Programa principal\n",
    "print (\"Este programa encuentra una raíz, por el método de newton\")\n",
    "xi=0\n",
    "error=float((input('Introduce la cota de error')))\n",
    "iteraciones=float((input('Introduce la cantidad de iteraciones')))\n",
    "lim=0\n",
    "cota=0\n",
    "while abs((xmas1(xi)-xi)/xmas1(xi)) > error and lim<iteraciones:\n",
    "    lim+=1\n",
    "    cota=abs((xmas1(xi)-xi)/xmas1(xi))\n",
    "    xi=xmas1(xi)\n",
    "    print('la iteracion: '+str(lim)+' nos da una raiz de: '+str(xi)+' con una cota de error de: '+str(cota))\n",
    "cota=abs((xmas1(xi)-xi)/xmas1(xi))\n",
    "print('la iteracion: '+str(lim+1)+' nos da una raiz de: '+str(xmas1(xi))+' con una cota de error de: '+str(cota))\n",
    "print()\n",
    "print('la solucion de la funcion dada por el metodo de newton es: '+str(xmas1(xi)))\n",
    "print('se hicieron '+str(lim+1)+\" iteraciones\")"
   ]
  },
  {
   "cell_type": "code",
   "execution_count": null,
   "id": "69469348",
   "metadata": {},
   "outputs": [],
   "source": []
  }
 ],
 "metadata": {
  "kernelspec": {
   "display_name": "Python 3",
   "language": "python",
   "name": "python3"
  },
  "language_info": {
   "codemirror_mode": {
    "name": "ipython",
    "version": 3
   },
   "file_extension": ".py",
   "mimetype": "text/x-python",
   "name": "python",
   "nbconvert_exporter": "python",
   "pygments_lexer": "ipython3",
   "version": "3.9.4"
  }
 },
 "nbformat": 4,
 "nbformat_minor": 5
}
