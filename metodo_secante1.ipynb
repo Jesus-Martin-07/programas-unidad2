{
 "cells": [
  {
   "cell_type": "code",
   "execution_count": 1,
   "id": "26bb2870",
   "metadata": {},
   "outputs": [
    {
     "name": "stdout",
     "output_type": "stream",
     "text": [
      "Este programa encuentra una raíz, por el método de la secante\n",
      "Introduce xi-10\n",
      "Introduce xi1\n",
      "Introduce la cota de error0.001\n",
      "Introduce la cantidad de iteraciones5\n",
      "la iteracion: 1 nos da una raiz de: -2.0 con una cota de error de: 1.5\n",
      "la iteracion: 2 nos da una raiz de: -0.5 con una cota de error de: 3.0\n",
      "la iteracion: 3 nos da una raiz de: -0.9090909090909092 con una cota de error de: 0.45000000000000007\n",
      "la iteracion: 4 nos da una raiz de: -1.0103092783505154 con una cota de error de: 0.10018552875695722\n",
      "la iteracion: 5 nos da una raiz de: -0.9998094875214327 con una cota de error de: 0.010501791551420558\n",
      "la iteracion: 6 nos da una raiz de: -0.9999996079841094 con una cota de error de: 0.00019012053720690678\n",
      "\n",
      "la solucion de la funcion dada por el metodo de la secante es: -0.9999996079841094\n",
      "se hicieron 6 iteraciones\n"
     ]
    }
   ],
   "source": [
    "import math\n",
    "def fximenosuno(x):\n",
    "    y=x**2-3*x-4\n",
    "    return (y)\n",
    "def fxi(x):\n",
    "    y=x**2-3*x-4\n",
    "    return (y)\n",
    "def ximasuno(x,y):\n",
    "    u=y-((fxi(y)*(x-y))/(fximenosuno(x)-fxi(y)))\n",
    "    return (u)\n",
    "#Programa principal\n",
    "print (\"Este programa encuentra una raíz, por el método de la secante\")\n",
    "ximenos1=float((input('Introduce xi-1')))\n",
    "xi=float((input('Introduce xi')))\n",
    "error=float((input('Introduce la cota de error')))\n",
    "iteraciones=float((input('Introduce la cantidad de iteraciones')))\n",
    "lim=0\n",
    "cota=0\n",
    "xi2=0\n",
    "while abs((ximasuno(ximenos1,xi)-xi)/ximasuno(ximenos1,xi)) > error and lim<iteraciones:\n",
    "    lim+=1\n",
    "    cota=abs((ximasuno(ximenos1,xi)-xi)/ximasuno(ximenos1,xi))\n",
    "    xi2=ximasuno(ximenos1,xi)\n",
    "    ximenos1=xi\n",
    "    xi=xi2\n",
    "    print('la iteracion: '+str(lim)+' nos da una raiz de: '+str(xi)+' con una cota de error de: '+str(cota))\n",
    "cota=abs((ximasuno(ximenos1,xi)-xi)/ximasuno(ximenos1,xi))\n",
    "print('la iteracion: ' + str(lim+1) + ' nos da una raiz de: ' + str(ximasuno(ximenos1,xi)) + ' con una cota de error de: ' + str(cota))\n",
    "print()\n",
    "print('la solucion de la funcion dada por el metodo de la secante es: '+str(ximasuno(ximenos1,xi)))\n",
    "print('se hicieron '+str(lim+1)+\" iteraciones\")"
   ]
  },
  {
   "cell_type": "code",
   "execution_count": null,
   "id": "79c51e1f",
   "metadata": {},
   "outputs": [],
   "source": []
  }
 ],
 "metadata": {
  "kernelspec": {
   "display_name": "Python 3",
   "language": "python",
   "name": "python3"
  },
  "language_info": {
   "codemirror_mode": {
    "name": "ipython",
    "version": 3
   },
   "file_extension": ".py",
   "mimetype": "text/x-python",
   "name": "python",
   "nbconvert_exporter": "python",
   "pygments_lexer": "ipython3",
   "version": "3.9.4"
  }
 },
 "nbformat": 4,
 "nbformat_minor": 5
}
